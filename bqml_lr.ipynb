{
 "cells": [
  {
   "cell_type": "markdown",
   "id": "cb607704-3ed6-424f-a71f-79c4481fe879",
   "metadata": {},
   "source": [
    "# Entrenamiento y predicción con BigQuery ML"
   ]
  },
  {
   "cell_type": "markdown",
   "id": "442c572d-11a5-4d8d-b9bc-8c95f2b84994",
   "metadata": {},
   "source": [
    "## Introducción"
   ]
  },
  {
   "cell_type": "markdown",
   "id": "fe3a486d-73bc-4db8-962f-6affe9573517",
   "metadata": {},
   "source": [
    "Este tutorial muestra cómo entrenar y evaluar un modelo de clasificación binaria con BQML. También usaremos este modelo para generar predicciones.\n",
    "\n",
    "Las dos primeras partes del tutorial explican cómo extraer los datos y prepararlos antes de entrenar su modelo.\n",
    "\n",
    "La última parte del tutorial profundiza en el código de entrenamiento que se usa para este modelo, con un enfoque particular en los requisitos para hacerlo compatible con BigQuery ML."
   ]
  },
  {
   "cell_type": "markdown",
   "id": "e7b45154-111d-488a-b5fc-b50716639465",
   "metadata": {},
   "source": [
    "## Conjunto de Datos"
   ]
  },
  {
   "cell_type": "markdown",
   "id": "2141fc9c-7049-4426-b8d5-ba93f45bc529",
   "metadata": {},
   "source": [
    "Este tutorial utiliza el conjunto de datos de ingresos del censo de los Estados Unidos proporcionado por el repositorio de aprendizaje automático de UC Irvine. Este conjunto de datos contiene información sobre personas de una base de datos del Censo de 1994, incluida la edad, la educación, el estado civil, la ocupación y si ganan más de $50,000 al año.\n",
    "\n",
    "El conjunto de datos ahora existe en los conjuntos de datos públicos de BigQuery:\n",
    "\n",
    "`bigquery-public-data.ml_datasets.census_adult_income`"
   ]
  },
  {
   "cell_type": "code",
   "execution_count": null,
   "id": "a72f5c30-7bcf-496f-b701-2722bd0b68c8",
   "metadata": {},
   "outputs": [],
   "source": []
  }
 ],
 "metadata": {
  "kernelspec": {
   "display_name": "Python (Local)",
   "language": "python",
   "name": "local-base"
  },
  "language_info": {
   "codemirror_mode": {
    "name": "ipython",
    "version": 3
   },
   "file_extension": ".py",
   "mimetype": "text/x-python",
   "name": "python",
   "nbconvert_exporter": "python",
   "pygments_lexer": "ipython3",
   "version": "3.7.12"
  }
 },
 "nbformat": 4,
 "nbformat_minor": 5
}
