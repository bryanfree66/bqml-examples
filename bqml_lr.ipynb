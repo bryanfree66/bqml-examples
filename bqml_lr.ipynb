{
 "cells": [
  {
   "cell_type": "markdown",
   "id": "cb607704-3ed6-424f-a71f-79c4481fe879",
   "metadata": {},
   "source": [
    "# Entrenamiento y predicción con BigQuery ML"
   ]
  },
  {
   "cell_type": "markdown",
   "id": "442c572d-11a5-4d8d-b9bc-8c95f2b84994",
   "metadata": {},
   "source": [
    "## Introducción"
   ]
  },
  {
   "cell_type": "markdown",
   "id": "fe3a486d-73bc-4db8-962f-6affe9573517",
   "metadata": {},
   "source": [
    "Este tutorial muestra cómo entrenar y evaluar un modelo de clasificación binaria con BQML. También usaremos este modelo para generar predicciones.\n",
    "\n",
    "Las dos primeras partes del tutorial explican cómo extraer los datos y prepararlos antes de entrenar su modelo.\n",
    "\n",
    "La última parte del tutorial profundiza en el código de entrenamiento que se usa para este modelo, con un enfoque particular en los requisitos para hacerlo compatible con BigQuery ML."
   ]
  },
  {
   "cell_type": "markdown",
   "id": "e7b45154-111d-488a-b5fc-b50716639465",
   "metadata": {},
   "source": [
    "## Conjunto de Datos"
   ]
  },
  {
   "cell_type": "markdown",
   "id": "2141fc9c-7049-4426-b8d5-ba93f45bc529",
   "metadata": {},
   "source": [
    "Este tutorial utiliza el conjunto de datos de ingresos del censo de los Estados Unidos proporcionado por el repositorio de aprendizaje automático de UC Irvine. Este conjunto de datos contiene información sobre personas de una base de datos del Censo de 1994, incluida la edad, la educación, el estado civil, la ocupación y si ganan más de $50,000 al año.\n",
    "\n",
    "El conjunto de datos ahora existe en los conjuntos de datos públicos de BigQuery:\n",
    "\n",
    "`bigquery-public-data.ml_datasets.census_adult_income`"
   ]
  },
  {
   "cell_type": "markdown",
   "id": "b0e82fa3-5ee7-4185-ba1b-d85299ed62d6",
   "metadata": {},
   "source": [
    "## Meta"
   ]
  },
  {
   "cell_type": "markdown",
   "id": "575f68c9-4867-4597-b318-e48bd7b81a26",
   "metadata": {},
   "source": [
    "El objetivo es entrenar un modelo de clasificación binaria con BigQuery ML que prediga si una persona gana más de $50,000 al año (etiqueta de destino) en función de otra información del censo sobre la persona (características)."
   ]
  },
  {
   "cell_type": "markdown",
   "id": "0482c7df-e090-4743-97a0-5fcae20214de",
   "metadata": {},
   "source": [
    "## Configuración del proyecto"
   ]
  },
  {
   "cell_type": "code",
   "execution_count": 2,
   "id": "338a0374-d7d5-4308-b733-6a065819fed0",
   "metadata": {},
   "outputs": [],
   "source": [
    "# Data processing\n",
    "import pandas as pd\n",
    "\n",
    "# Visualizations\n",
    "import matplotlib.pyplot as plt\n",
    "import seaborn as sns\n",
    "\n",
    "# BigQuery API\n",
    "from google.cloud import bigquery "
   ]
  },
  {
   "cell_type": "code",
   "execution_count": 12,
   "id": "15ee96b4-9b0f-4719-bbef-09d144a6bef7",
   "metadata": {},
   "outputs": [],
   "source": [
    "PROJECT = 'bq-experiments-350102'"
   ]
  },
  {
   "cell_type": "code",
   "execution_count": 13,
   "id": "cbd631f0-40f2-47af-bacf-2cdb23b7c6ec",
   "metadata": {},
   "outputs": [],
   "source": [
    "import os\n",
    "os.environ['PROJECT'] = PROJECT"
   ]
  },
  {
   "cell_type": "markdown",
   "id": "97a15a1a-84c1-408d-a7df-67fee12b617a",
   "metadata": {},
   "source": [
    "## Flujo de trabajo con un modelo de BigQuery"
   ]
  },
  {
   "cell_type": "markdown",
   "id": "a64fe600-c2fc-4da1-92c5-39395d3962c0",
   "metadata": {},
   "source": [
    "In this section we will build a BQML model from scratch. We will perform the following steps:\n",
    "- Data preparation\n",
    "- Model creation\n",
    "- Model training\n",
    "- Model evaluation\n",
    "- Model serving"
   ]
  },
  {
   "cell_type": "markdown",
   "id": "b6106093-172f-4d1f-acb3-0baf16ab7fcd",
   "metadata": {},
   "source": [
    "### Create BigQuery Client"
   ]
  },
  {
   "cell_type": "code",
   "execution_count": 14,
   "id": "48b83829-8f74-4138-ae38-7618f5d718d8",
   "metadata": {},
   "outputs": [],
   "source": [
    "client = bigquery.Client(location='US', project=PROJECT)"
   ]
  },
  {
   "cell_type": "markdown",
   "id": "fbc4c618-1ae3-4507-9f65-79d16cff62ea",
   "metadata": {},
   "source": [
    "## Create BigQuery dataset"
   ]
  },
  {
   "cell_type": "markdown",
   "id": "ba075242-73be-4b79-9bbb-34378827ef3e",
   "metadata": {},
   "source": [
    "Crearemos un conjunto de datos llamado censo_tutorial, dentro de este conjunto de datos crearemos nuestro modelo BQML. **Ojo:** Solo ejecuta este código una vez"
   ]
  }
 ],
 "metadata": {
  "kernelspec": {
   "display_name": "Python (Local)",
   "language": "python",
   "name": "local-base"
  },
  "language_info": {
   "codemirror_mode": {
    "name": "ipython",
    "version": 3
   },
   "file_extension": ".py",
   "mimetype": "text/x-python",
   "name": "python",
   "nbconvert_exporter": "python",
   "pygments_lexer": "ipython3",
   "version": "3.7.12"
  }
 },
 "nbformat": 4,
 "nbformat_minor": 5
}
