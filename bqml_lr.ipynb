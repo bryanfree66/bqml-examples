{
 "cells": [
  {
   "cell_type": "markdown",
   "id": "cb607704-3ed6-424f-a71f-79c4481fe879",
   "metadata": {},
   "source": [
    "# Entrenamiento y predicción con BigQuery ML"
   ]
  },
  {
   "cell_type": "markdown",
   "id": "442c572d-11a5-4d8d-b9bc-8c95f2b84994",
   "metadata": {},
   "source": [
    "## Introducción"
   ]
  },
  {
   "cell_type": "markdown",
   "id": "fe3a486d-73bc-4db8-962f-6affe9573517",
   "metadata": {},
   "source": [
    "Este tutorial muestra cómo entrenar y evaluar un modelo de clasificación binaria con BQML. También usaremos este modelo para generar predicciones.\n",
    "\n",
    "Las dos primeras partes del tutorial explican cómo extraer los datos y prepararlos antes de entrenar su modelo.\n",
    "\n",
    "La última parte del tutorial profundiza en el código de entrenamiento que se usa para este modelo, con un enfoque particular en los requisitos para hacerlo compatible con BigQuery ML."
   ]
  },
  {
   "cell_type": "markdown",
   "id": "e7b45154-111d-488a-b5fc-b50716639465",
   "metadata": {},
   "source": [
    "## Conjunto de Datos"
   ]
  },
  {
   "cell_type": "markdown",
   "id": "2141fc9c-7049-4426-b8d5-ba93f45bc529",
   "metadata": {},
   "source": [
    "Este tutorial utiliza el conjunto de datos de ingresos del censo de los Estados Unidos proporcionado por el repositorio de aprendizaje automático de UC Irvine. Este conjunto de datos contiene información sobre personas de una base de datos del Censo de 1994, incluida la edad, la educación, el estado civil, la ocupación y si ganan más de $50,000 al año.\n",
    "\n",
    "El conjunto de datos ahora existe en los conjuntos de datos públicos de BigQuery:\n",
    "\n",
    "`bigquery-public-data.ml_datasets.census_adult_income`"
   ]
  },
  {
   "cell_type": "markdown",
   "id": "b0e82fa3-5ee7-4185-ba1b-d85299ed62d6",
   "metadata": {},
   "source": [
    "## Meta"
   ]
  },
  {
   "cell_type": "markdown",
   "id": "575f68c9-4867-4597-b318-e48bd7b81a26",
   "metadata": {},
   "source": [
    "El objetivo es entrenar un modelo de clasificación binaria con BigQuery ML que prediga si una persona gana más de $50,000 al año (etiqueta de destino) en función de otra información del censo sobre la persona (características)."
   ]
  },
  {
   "cell_type": "markdown",
   "id": "0482c7df-e090-4743-97a0-5fcae20214de",
   "metadata": {},
   "source": [
    "## Configuración del proyecto"
   ]
  },
  {
   "cell_type": "code",
   "execution_count": 1,
   "id": "338a0374-d7d5-4308-b733-6a065819fed0",
   "metadata": {},
   "outputs": [],
   "source": [
    "# Data processing\n",
    "import pandas as pd\n",
    "\n",
    "# Visualizations\n",
    "import matplotlib.pyplot as plt\n",
    "import seaborn as sns\n",
    "\n",
    "# BigQuery API\n",
    "from google.cloud import bigquery "
   ]
  },
  {
   "cell_type": "code",
   "execution_count": 2,
   "id": "15ee96b4-9b0f-4719-bbef-09d144a6bef7",
   "metadata": {},
   "outputs": [],
   "source": [
    "PROJECT = 'bq-experiments-350102'"
   ]
  },
  {
   "cell_type": "code",
   "execution_count": 3,
   "id": "cbd631f0-40f2-47af-bacf-2cdb23b7c6ec",
   "metadata": {},
   "outputs": [],
   "source": [
    "import os\n",
    "os.environ['PROJECT'] = PROJECT"
   ]
  },
  {
   "cell_type": "markdown",
   "id": "97a15a1a-84c1-408d-a7df-67fee12b617a",
   "metadata": {},
   "source": [
    "## Flujo de trabajo con un modelo de BigQuery"
   ]
  },
  {
   "cell_type": "markdown",
   "id": "a64fe600-c2fc-4da1-92c5-39395d3962c0",
   "metadata": {},
   "source": [
    "In this section we will build a BQML model from scratch. We will perform the following steps:\n",
    "- Data preparation\n",
    "- Model creation\n",
    "- Model training\n",
    "- Model evaluation\n",
    "- Model serving"
   ]
  },
  {
   "cell_type": "markdown",
   "id": "0fda33d3-a446-45bd-807f-9e8bc010965f",
   "metadata": {},
   "source": [
    "### Importaciones"
   ]
  },
  {
   "cell_type": "code",
   "execution_count": 7,
   "id": "ac0fc208-f9f6-4e14-ba12-f14251df5312",
   "metadata": {},
   "outputs": [
    {
     "name": "stdout",
     "output_type": "stream",
     "text": [
      "3.7.12 | packaged by conda-forge | (default, Oct 26 2021, 06:08:53) \n",
      "[GCC 9.4.0]\n",
      "1.3.5\n"
     ]
    }
   ],
   "source": [
    "# Procesamiento de datos\n",
    "import pandas as pd\n",
    "\n",
    "# Visualizaciones\n",
    "import matplotlib.pyplot as plt\n",
    "import seaborn as sns\n",
    "\n",
    "# BigQuery API\n",
    "from google.cloud import bigquery \n",
    "\n",
    "# Mostrar versiones de software\n",
    "print(__import__('sys').version)\n",
    "print(pd.__version__)"
   ]
  },
  {
   "cell_type": "markdown",
   "id": "9494c647-4529-4811-823b-7663917b9cac",
   "metadata": {},
   "source": [
    "### Definir constantes"
   ]
  },
  {
   "cell_type": "code",
   "execution_count": 8,
   "id": "304b0434-63c3-496e-b65e-425c9d36fe8f",
   "metadata": {},
   "outputs": [],
   "source": [
    "COLUMNS = [\n",
    "    'age', 'workclass', 'functional_weight', 'education', 'education_num',\n",
    "    'marital_status', 'occupation', 'relationship', 'race', 'sex',\n",
    "    'capital_gain', 'capital_loss', 'hours_per_week', 'native_country',\n",
    "    'income_bracket'\n",
    "]\n",
    "\n",
    "LABEL_COLUMN = 'income_bracket'\n",
    "\n",
    "UNUSED_COLUMNS = ['functional_weight', 'education', 'sex']"
   ]
  },
  {
   "cell_type": "markdown",
   "id": "a1a8197c-9abc-443e-abba-076c036d46c4",
   "metadata": {},
   "source": [
    "## Preparación de datos"
   ]
  },
  {
   "cell_type": "markdown",
   "id": "962cc843-c5f5-41c5-913f-608c304ffdab",
   "metadata": {},
   "source": [
    "### Procesar columnas numéricas y categóricas\n",
    "Los conjuntos de datos del censo contienen números y cadenas que necesitamos para convertir los datos de cadena en números para poder entrenar el modelo.\n",
    "\n",
    "### BigQuery ML admite el manejo de datos categóricos:\n",
    "\n",
    "Para todas las columnas no numéricas que no sean TIMESTAMP, BigQuery ML realiza una transformación de codificación one-hot. Esta transformación genera una característica separada para cada valor único en la columna.\n",
    "\n",
    "### Crear cliente de BigQuery\n",
    "Cree un cliente de BigQuery para agrupar la configuración necesaria para las solicitudes de API."
   ]
  },
  {
   "cell_type": "code",
   "execution_count": 10,
   "id": "d6a58d01-08be-40e9-a388-d650a8f86cad",
   "metadata": {},
   "outputs": [],
   "source": [
    "client = bigquery.Client(location='US', project=PROJECT)"
   ]
  },
  {
   "cell_type": "markdown",
   "id": "9f852e84-3912-486d-be38-8188f845ab91",
   "metadata": {},
   "source": [
    "### Crear conjunto de datos de BigQuery\n",
    "Crearemos un conjunto de datos llamado censo_tutorial, dentro de este conjunto de datos crearemos nuestro modelo BQML. **NOTA:** solo ejecute este código una vez."
   ]
  },
  {
   "cell_type": "code",
   "execution_count": 13,
   "id": "c4f0aa7f-2c5b-4c58-9d71-6f86f4366ba4",
   "metadata": {},
   "outputs": [],
   "source": [
    "# Dataset and table information\n",
    "dataset_name = 'census_example'\n",
    "\n",
    "# Create BigQuery dataset\n",
    "dataset = client.create_dataset(dataset_name)"
   ]
  },
  {
   "cell_type": "markdown",
   "id": "e717e302-bc71-4ac8-92f9-a6555436c875",
   "metadata": {},
   "source": [
    "## Extraiga conjuntos de datos de entrenamiento y evaluación:\n",
    "En este caso, dividiremos nuestros datos en 80/10/10 para entrenamiento, validación y prueba.\n",
    "\n",
    "Para eML, desea un muestreo repetible de los datos que tiene en BigQuery. Para obtener los datos de validación: cambie el < 8 en la consulta anterior a = 8, y para los datos de prueba, cámbielo a = 9. De esta manera, obtiene el 10 % de las muestras en validación y el 10 % en prueba."
   ]
  },
  {
   "cell_type": "markdown",
   "id": "f139e888-79a0-4ba1-bec2-d32ef6e37bb6",
   "metadata": {},
   "source": [
    "#### Todos los datos"
   ]
  },
  {
   "cell_type": "code",
   "execution_count": 15,
   "id": "d4f7ad03-8c59-4321-9402-c669cb20a914",
   "metadata": {},
   "outputs": [],
   "source": [
    "query = \"\"\"\n",
    "SELECT\n",
    "    age,\n",
    "    workclass,\n",
    "    functional_weight,\n",
    "    education,\n",
    "    education_num,\n",
    "    marital_status,\n",
    "    occupation,\n",
    "    relationship,\n",
    "    race,\n",
    "    sex,\n",
    "    capital_gain,\n",
    "    capital_loss,\n",
    "    hours_per_week,\n",
    "    native_country,\n",
    "    income_bracket\n",
    "FROM\n",
    "  `bigquery-public-data.ml_datasets.census_adult_income`\n",
    "\"\"\"\n",
    "dataset = client.query(query).to_dataframe()"
   ]
  },
  {
   "cell_type": "markdown",
   "id": "79cea3c1-c972-4c9f-bf1f-114e94672998",
   "metadata": {},
   "source": [
    "### Datos de entrenamiento\n",
    "\n",
    "[Muestreo repetible](https://towardsdatascience.com/ml-design-pattern-5-repeatable-sampling-c0ccb2889f39)"
   ]
  },
  {
   "cell_type": "code",
   "execution_count": 16,
   "id": "530f420c-8125-4040-94b2-1fd19f167a47",
   "metadata": {},
   "outputs": [],
   "source": [
    "query = \"\"\"\n",
    "SELECT\n",
    "    age,\n",
    "    workclass,\n",
    "    functional_weight,\n",
    "    education,\n",
    "    education_num,\n",
    "    marital_status,\n",
    "    occupation,\n",
    "    relationship,\n",
    "    race,\n",
    "    sex,\n",
    "    capital_gain,\n",
    "    capital_loss,\n",
    "    hours_per_week,\n",
    "    native_country,\n",
    "    income_bracket\n",
    "FROM\n",
    "  `bigquery-public-data.ml_datasets.census_adult_income`\n",
    "WHERE\n",
    "  MOD(ABS(FARM_FINGERPRINT(CAST(functional_weight AS STRING))), 10) < 8\n",
    "\"\"\"\n",
    "train_dataset = client.query(query).to_dataframe()"
   ]
  },
  {
   "cell_type": "markdown",
   "id": "aaba879f-6ea9-441c-a3ea-481058972865",
   "metadata": {},
   "source": [
    "#### Datos de evaluación"
   ]
  },
  {
   "cell_type": "code",
   "execution_count": 17,
   "id": "bfb91c33-540c-4b06-993b-3931fba3a2eb",
   "metadata": {},
   "outputs": [],
   "source": [
    "query = \"\"\"\n",
    "SELECT\n",
    "    age,\n",
    "    workclass,\n",
    "    functional_weight,\n",
    "    education,\n",
    "    education_num,\n",
    "    marital_status,\n",
    "    occupation,\n",
    "    relationship,\n",
    "    race,\n",
    "    sex,\n",
    "    capital_gain,\n",
    "    capital_loss,\n",
    "    hours_per_week,\n",
    "    native_country,\n",
    "    income_bracket\n",
    "FROM\n",
    "  `bigquery-public-data.ml_datasets.census_adult_income`\n",
    "WHERE\n",
    "  MOD(ABS(FARM_FINGERPRINT(CAST(functional_weight AS STRING))), 10) = 8\n",
    "\"\"\"\n",
    "eval_dataset = client.query(query).to_dataframe()"
   ]
  },
  {
   "cell_type": "markdown",
   "id": "c2862395-f646-4a75-a5d1-04a23c879add",
   "metadata": {},
   "source": [
    "#### Datos de prueba"
   ]
  },
  {
   "cell_type": "code",
   "execution_count": 18,
   "id": "7d7f7430-b939-4224-ab7e-d3d1a83de9f9",
   "metadata": {},
   "outputs": [],
   "source": [
    "query = \"\"\"\n",
    "SELECT\n",
    "    age,\n",
    "    workclass,\n",
    "    functional_weight,\n",
    "    education,\n",
    "    education_num,\n",
    "    marital_status,\n",
    "    occupation,\n",
    "    relationship,\n",
    "    race,\n",
    "    sex,\n",
    "    capital_gain,\n",
    "    capital_loss,\n",
    "    hours_per_week,\n",
    "    native_country,\n",
    "    income_bracket\n",
    "FROM\n",
    "  `bigquery-public-data.ml_datasets.census_adult_income`\n",
    "WHERE\n",
    "  MOD(ABS(FARM_FINGERPRINT(CAST(functional_weight AS STRING))), 10) = 9\n",
    "\"\"\"\n",
    "test_dataset = client.query(query).to_dataframe()"
   ]
  },
  {
   "cell_type": "markdown",
   "id": "2d659099-67e8-4c15-acf6-be3b67437a53",
   "metadata": {},
   "source": [
    "#### Longitud del dataframe"
   ]
  },
  {
   "cell_type": "markdown",
   "id": "d8fee7d4-a485-47af-9055-13d51b4a3a7b",
   "metadata": {},
   "source": [
    "Indique la longitud de los datos de entrenamiento y prueba. Esto validará que el conjunto de datos contenga datos antes de que comencemos a procesarlo."
   ]
  },
  {
   "cell_type": "code",
   "execution_count": 19,
   "id": "30361889-8f3f-4989-a5e5-1cd44bd9ea88",
   "metadata": {},
   "outputs": [
    {
     "data": {
      "text/plain": [
       "(32561, 26192, 3268, 3101)"
      ]
     },
     "execution_count": 19,
     "metadata": {},
     "output_type": "execute_result"
    }
   ],
   "source": [
    "len(dataset), len(train_dataset), len(eval_dataset), len(test_dataset)"
   ]
  },
  {
   "cell_type": "code",
   "execution_count": null,
   "id": "560fa126-2939-48ce-ac88-3a844327edad",
   "metadata": {},
   "outputs": [],
   "source": []
  }
 ],
 "metadata": {
  "kernelspec": {
   "display_name": "Python (Local)",
   "language": "python",
   "name": "local-base"
  },
  "language_info": {
   "codemirror_mode": {
    "name": "ipython",
    "version": 3
   },
   "file_extension": ".py",
   "mimetype": "text/x-python",
   "name": "python",
   "nbconvert_exporter": "python",
   "pygments_lexer": "ipython3",
   "version": "3.7.12"
  }
 },
 "nbformat": 4,
 "nbformat_minor": 5
}
