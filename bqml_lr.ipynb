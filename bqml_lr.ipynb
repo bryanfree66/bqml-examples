{
 "cells": [
  {
   "cell_type": "markdown",
   "id": "cb607704-3ed6-424f-a71f-79c4481fe879",
   "metadata": {},
   "source": [
    "# Entrenamiento y predicción con BigQuery ML"
   ]
  },
  {
   "cell_type": "code",
   "execution_count": null,
   "id": "149f8626-b78a-4f67-adba-2b485f5a7d77",
   "metadata": {},
   "outputs": [],
   "source": []
  },
  {
   "cell_type": "markdown",
   "id": "442c572d-11a5-4d8d-b9bc-8c95f2b84994",
   "metadata": {},
   "source": [
    "## Introducción"
   ]
  },
  {
   "cell_type": "markdown",
   "id": "fe3a486d-73bc-4db8-962f-6affe9573517",
   "metadata": {},
   "source": [
    "Este ejemplo muestra cómo entrenar y evaluar un modelo de clasificación binaria con BQML. También usaremos este modelo para generar predicciones.\n",
    "\n",
    "Las dos primeras partes del tutorial explican cómo extraer los datos y prepararlos antes de entrenar su modelo.\n",
    "\n",
    "La última parte del tutorial profundiza en el código de entrenamiento que se usa para este modelo, con un enfoque particular en los requisitos para hacerlo compatible con BigQuery ML."
   ]
  },
  {
   "cell_type": "markdown",
   "id": "e7b45154-111d-488a-b5fc-b50716639465",
   "metadata": {},
   "source": [
    "## Conjunto de Datos"
   ]
  },
  {
   "cell_type": "markdown",
   "id": "2141fc9c-7049-4426-b8d5-ba93f45bc529",
   "metadata": {},
   "source": [
    "Este tutorial utiliza el conjunto de datos de ingresos del censo de los Estados Unidos proporcionado por el repositorio de aprendizaje automático de UC Irvine. Este conjunto de datos contiene información sobre personas de una base de datos del Censo de 1994, incluida la edad, la educación, el estado civil, la ocupación y si ganan más de $50,000 al año.\n",
    "\n",
    "El conjunto de datos ahora existe en los conjuntos de datos públicos de BigQuery:\n",
    "\n",
    "`bigquery-public-data.ml_datasets.census_adult_income`"
   ]
  },
  {
   "cell_type": "markdown",
   "id": "b0e82fa3-5ee7-4185-ba1b-d85299ed62d6",
   "metadata": {},
   "source": [
    "## El objetivo del modelo"
   ]
  },
  {
   "cell_type": "markdown",
   "id": "575f68c9-4867-4597-b318-e48bd7b81a26",
   "metadata": {},
   "source": [
    "El objetivo es entrenar un modelo de clasificación binaria con BigQuery ML que prediga si una persona gana más de $50,000 al año (etiqueta de destino) en función de otra información del censo sobre la persona (características)."
   ]
  },
  {
   "cell_type": "markdown",
   "id": "0482c7df-e090-4743-97a0-5fcae20214de",
   "metadata": {},
   "source": [
    "## Configuración del proyecto"
   ]
  },
  {
   "cell_type": "code",
   "execution_count": null,
   "id": "338a0374-d7d5-4308-b733-6a065819fed0",
   "metadata": {},
   "outputs": [],
   "source": [
    "# Data processing\n",
    "import pandas as pd\n",
    "\n",
    "# Visualizations\n",
    "import matplotlib.pyplot as plt\n",
    "import seaborn as sns\n",
    "\n",
    "# BigQuery API\n",
    "from google.cloud import bigquery "
   ]
  },
  {
   "cell_type": "code",
   "execution_count": null,
   "id": "15ee96b4-9b0f-4719-bbef-09d144a6bef7",
   "metadata": {},
   "outputs": [],
   "source": [
    "PROJECT = 'bq-experiments-350102'"
   ]
  },
  {
   "cell_type": "code",
   "execution_count": null,
   "id": "cbd631f0-40f2-47af-bacf-2cdb23b7c6ec",
   "metadata": {},
   "outputs": [],
   "source": [
    "import os\n",
    "os.environ['PROJECT'] = PROJECT"
   ]
  },
  {
   "cell_type": "markdown",
   "id": "97a15a1a-84c1-408d-a7df-67fee12b617a",
   "metadata": {},
   "source": [
    "## Flujo de trabajo con un modelo de BigQuery"
   ]
  },
  {
   "cell_type": "markdown",
   "id": "a64fe600-c2fc-4da1-92c5-39395d3962c0",
   "metadata": {},
   "source": [
    "In this section we will build a BQML model from scratch. We will perform the following steps:\n",
    "- Preparación de datos\n",
    "- Creación de modelo\n",
    "- Entrenamiento modelo\n",
    "- Evaluación del modelo\n",
    "- Sirviendo el modelo"
   ]
  },
  {
   "cell_type": "markdown",
   "id": "0fda33d3-a446-45bd-807f-9e8bc010965f",
   "metadata": {},
   "source": [
    "### Importaciones"
   ]
  },
  {
   "cell_type": "code",
   "execution_count": null,
   "id": "2fa8740a-e709-45a6-9d04-92d986ae9932",
   "metadata": {},
   "outputs": [],
   "source": [
    "#! pip3 install -U  -q --user tensorflow==2.5 \\\n",
    "#    tensorflow-data-validation==1.2 \\\n",
    "#    tensorflow-transform==1.2 \\\n",
    "#    tensorflow-io==0.18 \n"
   ]
  },
  {
   "cell_type": "code",
   "execution_count": null,
   "id": "ac0fc208-f9f6-4e14-ba12-f14251df5312",
   "metadata": {},
   "outputs": [],
   "source": [
    "# Procesamiento de datos\n",
    "import pandas as pd\n",
    "\n",
    "# Visualizaciones\n",
    "import matplotlib.pyplot as plt\n",
    "import seaborn as sns\n",
    "\n",
    "# BigQuery API\n",
    "from google.cloud import bigquery \n",
    "\n",
    "# TensorFlow data validation\n",
    "import tensorflow_data_validation as tfdv\n",
    "\n",
    "# Mostrar versiones de software\n",
    "print(__import__('sys').version)\n",
    "print(pd.__version__)"
   ]
  },
  {
   "cell_type": "markdown",
   "id": "a1a8197c-9abc-443e-abba-076c036d46c4",
   "metadata": {},
   "source": [
    "## Preparación de datos"
   ]
  },
  {
   "cell_type": "markdown",
   "id": "962cc843-c5f5-41c5-913f-608c304ffdab",
   "metadata": {},
   "source": [
    "### Procesar columnas numéricas y categóricas\n",
    "Los conjuntos de datos del censo contienen números y cadenas que necesitamos para convertir los datos de cadena en números para poder entrenar el modelo.\n",
    "\n",
    "### BigQuery ML admite el manejo de datos categóricos:\n",
    "\n",
    "Para todas las columnas no numéricas que no sean TIMESTAMP, BigQuery ML realiza una transformación de codificación one-hot. Esta transformación genera una característica separada para cada valor único en la columna.\n",
    "\n",
    "### Crear cliente de BigQuery\n",
    "Cree un cliente de BigQuery para agrupar la configuración necesaria para las solicitudes de API."
   ]
  },
  {
   "cell_type": "code",
   "execution_count": null,
   "id": "d6a58d01-08be-40e9-a388-d650a8f86cad",
   "metadata": {},
   "outputs": [],
   "source": [
    "client = bigquery.Client(location='US', project=PROJECT)"
   ]
  },
  {
   "cell_type": "markdown",
   "id": "9f852e84-3912-486d-be38-8188f845ab91",
   "metadata": {},
   "source": [
    "### Crear conjunto de datos de BigQuery\n",
    "Crearemos un conjunto de datos llamado censo_tutorial, dentro de este conjunto de datos crearemos nuestro modelo BQML. **NOTA:** solo ejecute este código una vez."
   ]
  },
  {
   "cell_type": "code",
   "execution_count": null,
   "id": "c4f0aa7f-2c5b-4c58-9d71-6f86f4366ba4",
   "metadata": {},
   "outputs": [],
   "source": [
    "# Dataset and table information\n",
    "#dataset_name = 'census_example'\n",
    "\n",
    "# Create BigQuery dataset\n",
    "#dataset = client.create_dataset(dataset_name)"
   ]
  },
  {
   "cell_type": "markdown",
   "id": "e717e302-bc71-4ac8-92f9-a6555436c875",
   "metadata": {},
   "source": [
    "## Extraiga conjuntos de datos de entrenamiento y evaluación:\n",
    "En este caso, dividiremos nuestros datos en 80/10/10 para entrenamiento, validación y prueba.\n",
    "\n",
    "Para eML, desea un muestreo repetible de los datos que tiene en BigQuery. Para obtener los datos de validación: cambie el < 8 en la consulta anterior a = 8, y para los datos de prueba, cámbielo a = 9. De esta manera, obtiene el 10 % de las muestras en validación y el 10 % en prueba."
   ]
  },
  {
   "cell_type": "markdown",
   "id": "f139e888-79a0-4ba1-bec2-d32ef6e37bb6",
   "metadata": {},
   "source": [
    "#### Todos los datos"
   ]
  },
  {
   "cell_type": "code",
   "execution_count": null,
   "id": "d4f7ad03-8c59-4321-9402-c669cb20a914",
   "metadata": {},
   "outputs": [],
   "source": [
    "query = \"\"\"\n",
    "SELECT\n",
    "    age,\n",
    "    workclass,\n",
    "    functional_weight,\n",
    "    education,\n",
    "    education_num,\n",
    "    marital_status,\n",
    "    occupation,\n",
    "    relationship,\n",
    "    race,\n",
    "    sex,\n",
    "    capital_gain,\n",
    "    capital_loss,\n",
    "    hours_per_week,\n",
    "    native_country,\n",
    "    income_bracket\n",
    "FROM\n",
    "  `bigquery-public-data.ml_datasets.census_adult_income`\n",
    "\"\"\"\n",
    "dataset = client.query(query).to_dataframe()"
   ]
  },
  {
   "cell_type": "markdown",
   "id": "79cea3c1-c972-4c9f-bf1f-114e94672998",
   "metadata": {},
   "source": [
    "### Datos de entrenamiento\n",
    "\n",
    "[Muestreo repetible](https://towardsdatascience.com/ml-design-pattern-5-repeatable-sampling-c0ccb2889f39)"
   ]
  },
  {
   "cell_type": "code",
   "execution_count": null,
   "id": "530f420c-8125-4040-94b2-1fd19f167a47",
   "metadata": {},
   "outputs": [],
   "source": [
    "query = \"\"\"\n",
    "SELECT\n",
    "    age,\n",
    "    workclass,\n",
    "    functional_weight,\n",
    "    education,\n",
    "    education_num,\n",
    "    marital_status,\n",
    "    occupation,\n",
    "    relationship,\n",
    "    race,\n",
    "    sex,\n",
    "    capital_gain,\n",
    "    capital_loss,\n",
    "    hours_per_week,\n",
    "    native_country,\n",
    "    income_bracket\n",
    "FROM\n",
    "  `bigquery-public-data.ml_datasets.census_adult_income`\n",
    "WHERE\n",
    "  MOD(ABS(FARM_FINGERPRINT(CAST(functional_weight AS STRING))), 10) < 8\n",
    "\"\"\"\n",
    "train_dataset = client.query(query).to_dataframe()"
   ]
  },
  {
   "cell_type": "markdown",
   "id": "aaba879f-6ea9-441c-a3ea-481058972865",
   "metadata": {},
   "source": [
    "#### Datos de evaluación"
   ]
  },
  {
   "cell_type": "code",
   "execution_count": null,
   "id": "bfb91c33-540c-4b06-993b-3931fba3a2eb",
   "metadata": {},
   "outputs": [],
   "source": [
    "query = \"\"\"\n",
    "SELECT\n",
    "    age,\n",
    "    workclass,\n",
    "    functional_weight,\n",
    "    education,\n",
    "    education_num,\n",
    "    marital_status,\n",
    "    occupation,\n",
    "    relationship,\n",
    "    race,\n",
    "    sex,\n",
    "    capital_gain,\n",
    "    capital_loss,\n",
    "    hours_per_week,\n",
    "    native_country,\n",
    "    income_bracket\n",
    "FROM\n",
    "  `bigquery-public-data.ml_datasets.census_adult_income`\n",
    "WHERE\n",
    "  MOD(ABS(FARM_FINGERPRINT(CAST(functional_weight AS STRING))), 10) = 8\n",
    "\"\"\"\n",
    "eval_dataset = client.query(query).to_dataframe()"
   ]
  },
  {
   "cell_type": "markdown",
   "id": "c2862395-f646-4a75-a5d1-04a23c879add",
   "metadata": {},
   "source": [
    "#### Datos de prueba"
   ]
  },
  {
   "cell_type": "code",
   "execution_count": null,
   "id": "7d7f7430-b939-4224-ab7e-d3d1a83de9f9",
   "metadata": {},
   "outputs": [],
   "source": [
    "query = \"\"\"\n",
    "SELECT\n",
    "    age,\n",
    "    workclass,\n",
    "    functional_weight,\n",
    "    education,\n",
    "    education_num,\n",
    "    marital_status,\n",
    "    occupation,\n",
    "    relationship,\n",
    "    race,\n",
    "    sex,\n",
    "    capital_gain,\n",
    "    capital_loss,\n",
    "    hours_per_week,\n",
    "    native_country,\n",
    "    income_bracket\n",
    "FROM\n",
    "  `bigquery-public-data.ml_datasets.census_adult_income`\n",
    "WHERE\n",
    "  MOD(ABS(FARM_FINGERPRINT(CAST(functional_weight AS STRING))), 10) = 9\n",
    "\"\"\"\n",
    "test_dataset = client.query(query).to_dataframe()"
   ]
  },
  {
   "cell_type": "markdown",
   "id": "2d659099-67e8-4c15-acf6-be3b67437a53",
   "metadata": {},
   "source": [
    "#### Longitud del dataframe"
   ]
  },
  {
   "cell_type": "markdown",
   "id": "d8fee7d4-a485-47af-9055-13d51b4a3a7b",
   "metadata": {},
   "source": [
    "Indique la longitud de los datos de entrenamiento y prueba. Esto validará que el conjunto de datos contenga datos antes de que comencemos a procesarlo."
   ]
  },
  {
   "cell_type": "code",
   "execution_count": null,
   "id": "30361889-8f3f-4989-a5e5-1cd44bd9ea88",
   "metadata": {},
   "outputs": [],
   "source": [
    "len(dataset), len(train_dataset), len(eval_dataset), len(test_dataset)"
   ]
  },
  {
   "cell_type": "markdown",
   "id": "337ce143-6bf7-447c-9f3e-d29e2bbf92b3",
   "metadata": {},
   "source": [
    "## Exploración de datos"
   ]
  },
  {
   "cell_type": "code",
   "execution_count": null,
   "id": "9ad59832-862e-44e3-bb82-27d09b3eb3b7",
   "metadata": {},
   "outputs": [],
   "source": [
    "stats = tfdv.generate_statistics_from_dataframe(\n",
    "    dataframe=dataset,\n",
    "    stats_options=tfdv.StatsOptions(\n",
    "        label_feature=\"income_bracket\", sample_rate=1, num_top_values=50\n",
    "    ),\n",
    ")"
   ]
  },
  {
   "cell_type": "code",
   "execution_count": null,
   "id": "f05ae35f-6497-45f8-9e1f-28145dcbccf6",
   "metadata": {},
   "outputs": [],
   "source": [
    "tfdv.visualize_statistics(stats)"
   ]
  },
  {
   "cell_type": "markdown",
   "id": "0b5c5d84-a53a-44c7-aca2-a4c76f2064a7",
   "metadata": {},
   "source": [
    "## Visualiza los datos\n",
    "\n",
    "Pandas proporciona el método .corr. Se utiliza para encontrar la correlación por pares de todas las columnas en el marco de datos. Cualquier valor de na se excluye automáticamente. Para cualquier columna de tipo de datos no numérico en el marco de datos, se ignora.\n",
    "\n",
    "El término correlación se refiere a una relación mutua o asociación entre cantidades.\n",
    "\n",
    "Cuanto más cerca esté ρ de 1, más se asocia un aumento en una variable con un aumento en la otra. Por otro lado, cuanto más cerca esté ρ de -1, el aumento en una variable resultará en una disminución en la otra. Tenga en cuenta que si X e Y son independientes, entonces ρ está cerca de 0, ¡pero no al revés! En otras palabras, la correlación de Pearson puede ser pequeña incluso si existe una fuerte relación entre dos variables."
   ]
  },
  {
   "cell_type": "code",
   "execution_count": null,
   "id": "244dd17e-b899-4f3d-8995-a894fc9353e4",
   "metadata": {},
   "outputs": [],
   "source": [
    "hmap = dataset.corr(method='pearson')\n",
    "plt.subplots(figsize=(12, 9))\n",
    "sns.heatmap(hmap, vmax=0.8 ,annot=True, cmap=\"BrBG\", square=True)"
   ]
  },
  {
   "cell_type": "markdown",
   "id": "4b2cb51f-5ce6-4eae-b8ba-8ebe60c13fca",
   "metadata": {},
   "source": [
    "Cuando observamos las características numéricas, no tienen una fuerte correlación. Los atributos numéricos tienen un número significativo de valores únicos:\n",
    "\n",
    "functional_weight, tiene más de 28,000 valores únicos para un conjunto de ~32,000 valores.\n",
    "Esto puede indicar que esta característica podría no ser un predictor significativo."
   ]
  },
  {
   "cell_type": "markdown",
   "id": "f7297e1c-100e-44e3-a860-a5b21eef002b",
   "metadata": {},
   "source": [
    "#### Visualizar interacciones"
   ]
  },
  {
   "cell_type": "code",
   "execution_count": null,
   "id": "99d2e6df-d1e9-4ace-8c60-f567d357e459",
   "metadata": {},
   "outputs": [],
   "source": [
    "sns.pairplot(dataset, hue='income_bracket')"
   ]
  },
  {
   "cell_type": "markdown",
   "id": "4d121ce3-97f5-4aaf-8190-1af7803db9ef",
   "metadata": {},
   "source": [
    "En este gráfico puede ver las diferentes muestras y sus valores, esto es importante cuando está haciendo ingeniería de características."
   ]
  },
  {
   "cell_type": "markdown",
   "id": "2b69e3c3-365b-4d44-bb98-811692a7ad8c",
   "metadata": {},
   "source": [
    "### Recuento de >50K y <=50K"
   ]
  },
  {
   "cell_type": "code",
   "execution_count": null,
   "id": "eb34c224-4d62-4708-be2c-0525b8b565dd",
   "metadata": {},
   "outputs": [],
   "source": [
    "sns.displot(dataset, x='income_bracket')"
   ]
  },
  {
   "cell_type": "markdown",
   "id": "9900e2cb-8249-48e2-8a0f-56286f1104bb",
   "metadata": {},
   "source": [
    "Hay un desequilibrio en la proporción de etiquetas, con 24720 valores para <=50K y 7841 para => 50K. sin embargo, el 24% del total debería ser suficiente para determinar la clase a través de patrones. En otros casos se pueden aplicar técnicas como boosting."
   ]
  },
  {
   "cell_type": "markdown",
   "id": "719d023f-0e29-4b1e-9fab-fdec6cfe3f09",
   "metadata": {},
   "source": [
    "## Ingeniería de características\n",
    "#### Análisis de datos numéricos\n",
    "Haremos un análisis de datos numéricos para verificar las diferentes características y la correlación con el nivel de ingresos.\n",
    "\n",
    "En las variables categóricas, hay tres atributos con valores desconocidos/faltantes:\n",
    "\n",
    "workclass (6%)\n",
    "occupation (6%)\n",
    "native_country (2%)"
   ]
  },
  {
   "cell_type": "code",
   "execution_count": null,
   "id": "0b65be00-c9ef-41d2-8084-61f5102771e1",
   "metadata": {},
   "outputs": [],
   "source": [
    "# Comprobación de campos vacíos (NULO) O (?) y su porcentaje general\n",
    "query = \"\"\"\n",
    "SELECT\n",
    "  COUNTIF(workclass IS NULL \n",
    "    OR LTRIM(workclass) LIKE '?') AS workclass,\n",
    "  ROUND(COUNTIF(workclass IS NULL \n",
    "    OR LTRIM(workclass) LIKE '?') / COUNT(workclass) * 100) \n",
    "    AS workclass_percentage,\n",
    "  COUNTIF(occupation IS NULL \n",
    "    OR LTRIM(occupation) LIKE '?') AS occupation,  \n",
    "  ROUND(COUNTIF(occupation IS NULL \n",
    "    OR LTRIM(occupation) LIKE '?') / COUNT(occupation) * 100) \n",
    "    AS occupation_percentage,\n",
    "  COUNTIF(native_country IS NULL \n",
    "    OR LTRIM(native_country) LIKE '?') AS native_country,\n",
    "  ROUND(COUNTIF(native_country IS NULL \n",
    "    OR LTRIM(native_country) LIKE '?') / COUNT(native_country) * 100) \n",
    "    AS native_country_percentage\n",
    "FROM\n",
    "  `bigquery-public-data.ml_datasets.census_adult_income`\n",
    "\"\"\"\n",
    "client.query(query).to_dataframe()"
   ]
  },
  {
   "cell_type": "code",
   "execution_count": null,
   "id": "c42d5fe3-d717-48c5-866a-5ed25f4cb2d1",
   "metadata": {},
   "outputs": [],
   "source": [
    "# Comprobación de los valores de workclass.\n",
    "query = \"\"\"\n",
    "SELECT\n",
    "  workclass,\n",
    "  COUNT(workclass) AS total_workclass\n",
    "FROM \n",
    "  `bigquery-public-data.ml_datasets.census_adult_income`\n",
    "GROUP BY workclass\n",
    "ORDER BY total_workclass DESC\n",
    "\"\"\"\n",
    "client.query(query).to_dataframe()"
   ]
  },
  {
   "cell_type": "code",
   "execution_count": null,
   "id": "31a6223f-6533-4486-818d-7842b25a48b0",
   "metadata": {},
   "outputs": [],
   "source": [
    "# Comprobación de los valores de occupation.\n",
    "query = \"\"\"\n",
    "SELECT\n",
    "  occupation,\n",
    "  COUNT(occupation) AS total_occupation\n",
    "FROM \n",
    "  `bigquery-public-data.ml_datasets.census_adult_income`\n",
    "GROUP BY occupation\n",
    "ORDER BY total_occupation DESC\n",
    "\"\"\"\n",
    "client.query(query).to_dataframe()"
   ]
  },
  {
   "cell_type": "code",
   "execution_count": null,
   "id": "4c917077-d96f-42c2-b3ba-1240c494616c",
   "metadata": {},
   "outputs": [],
   "source": [
    "# Comprobación de los valores de native_country.\n",
    "query = \"\"\"\n",
    "SELECT\n",
    "  native_country,\n",
    "  COUNT(native_country) AS total_native_country\n",
    "FROM \n",
    "  `bigquery-public-data.ml_datasets.census_adult_income`\n",
    "GROUP BY native_country\n",
    "ORDER BY total_native_country DESC\n",
    "\"\"\"\n",
    "client.query(query).to_dataframe()"
   ]
  },
  {
   "cell_type": "markdown",
   "id": "acb75717-196f-46df-a2d3-0f1b8b833706",
   "metadata": {},
   "source": [
    "Echemos un vistazo a los siguientes atributos numéricos:\n",
    "\n",
    "- **capital_gain** y **capital_loss** tienen cada uno cerca de 100 valores únicos, aunque la mayoría de sus instancias tienen valores cero.\n",
    "\n",
    "- **capital_gain** tiene 72 % de instancias con valores cero para menos de 50 000 y 19 % de instancias con valores cero para > 50 000.\n",
    "\n",
    "- **capital_loss** tiene 73 % de instancias con valores cero para menos de 50 000 y 21 % de instancias con valores cero para > 50 000.\n",
    "\n",
    "- Esto implica que **capital_gain** o **capital_loss** tampoco serán predictores significativos."
   ]
  },
  {
   "cell_type": "code",
   "execution_count": null,
   "id": "b8842827-2ffa-40a7-8830-c6be42e915f2",
   "metadata": {},
   "outputs": [],
   "source": [
    "# Evaluación de la educación\n",
    "query = \"\"\"\n",
    "SELECT\n",
    "  education,\n",
    "  education_num      \n",
    "FROM \n",
    "  `bigquery-public-data.ml_datasets.census_adult_income`\n",
    "GROUP BY education, education_num\n",
    "ORDER BY education_num\n",
    "\"\"\"\n",
    "client.query(query).to_dataframe()"
   ]
  },
  {
   "cell_type": "markdown",
   "id": "82ba80cb-c1c5-47ad-b25f-fcf8cf62b82d",
   "metadata": {},
   "source": [
    "**educación** y **educación_número** son indicadores del mismo atributo y están completamente correlacionados con el mapeo directo, tiene sentido eliminar uno de ellos durante la selección de características."
   ]
  },
  {
   "cell_type": "code",
   "execution_count": null,
   "id": "c0ed37f2-b806-4c8f-9811-ffc98a89507f",
   "metadata": {},
   "outputs": [],
   "source": [
    "# Explore Núm. de Educación vs. Ingresos\n",
    "g = sns.catplot(x=\"education_num\", y=\"income_bracket\", data=dataset,kind=\"bar\", \n",
    "                height = 6,palette = \"muted\")\n",
    "g.despine(left=True)\n",
    "g = g.set_ylabels(\">50K probability\")"
   ]
  },
  {
   "cell_type": "code",
   "execution_count": null,
   "id": "1c8cd418-3eff-4a27-9d3f-2ca1e28c4cb6",
   "metadata": {},
   "outputs": [],
   "source": [
    "# Explorando marital_status\n",
    "query = \"\"\"\n",
    "SELECT\n",
    "  marital_status            \n",
    "FROM \n",
    "  `bigquery-public-data.ml_datasets.census_adult_income`\n",
    "GROUP BY marital_status\n",
    "\"\"\"\n",
    "client.query(query).to_dataframe()"
   ]
  },
  {
   "cell_type": "code",
   "execution_count": null,
   "id": "42609317-7603-4aa3-b58a-308fc59cccdc",
   "metadata": {},
   "outputs": [],
   "source": [
    "# Explorando relationship\n",
    "query = \"\"\"\n",
    "SELECT\n",
    "  relationship            \n",
    "FROM \n",
    "  `bigquery-public-data.ml_datasets.census_adult_income`\n",
    "GROUP BY relationship\n",
    "\"\"\"\n",
    "client.query(query).to_dataframe()"
   ]
  },
  {
   "cell_type": "markdown",
   "id": "6583181e-ed4a-4074-9004-0fd352ba401b",
   "metadata": {},
   "source": [
    "Dado que la **relationship** y el **marital_status** son funciones que describen un estado similar, es posible que podamos eliminar la **relationship** y mantener **marital_status** y crear una nueva función con nuevos valores."
   ]
  },
  {
   "cell_type": "markdown",
   "id": "36edb0fa-4e0f-438c-a997-ba62051c1b2c",
   "metadata": {},
   "source": [
    "## Model Training"
   ]
  },
  {
   "cell_type": "markdown",
   "id": "d106cc4a-05b9-473f-b56e-51652ebd49a6",
   "metadata": {},
   "source": [
    "Comenzaremos el entrenamiento del modelo utilizando el conjunto de datos público:\n",
    "\n",
    "La declaración **CREATE MODEL** se usa para crear y entrenar el modelo llamado censo_tutorial.census_modelo.\n",
    "\n",
    "**CREATE OR REPLACE MODEL**\n",
    "\n",
    "Crea y entrena un modelo y reemplaza un modelo existente con el mismo nombre en el conjunto de datos especificado.\n",
    "\n",
    "**OPTIONS(model_type='logistic_reg', input_label_cols=['income_bracket'])**\n",
    "\n",
    "La declaración indica que está creando un modelo de regresión logística. Esta opción crea un modelo de regresión logística o un modelo de regresión logística multiclase. Para los modelos de regresión logística, la columna de la etiqueta debe contener solo dos valores distintos. Cuando cree un modelo de regresión logística multiclase, especifique datos de entrenamiento que contengan más de dos etiquetas únicas.\n",
    "\n",
    "- **model_type:** logistic_reg crea un modelo de regresión logística o un modelo de regresión logística multiclase.\n",
    "\n",
    "- **auto_class_weights:** de forma predeterminada, los datos de entrenamiento utilizados para crear un modelo de regresión logística multiclase no están ponderados. Si las etiquetas en los datos de entrenamiento están desequilibradas, el modelo puede aprender a predecir la clase de etiquetas más popular en mayor medida, lo que puede no ser deseable. Los pesos de clase se pueden usar para equilibrar las etiquetas de clase y se pueden usar para regresiones logísticas y logísticas multiclase. Si se establece en verdadero, los pesos de cada clase se calculan en proporción inversa a la frecuencia de esa clase. Para equilibrar cada clase, use la siguiente fórmula: TOTAL_INPUT_ROWS / (INPUT_ROWS_FOR_CLASS_N * NUMBER_OF_UNIQUE_CLASSES)\n",
    "\n",
    "- **data_split_method:** el método para dividir los datos de entrada en conjuntos de entrenamiento y evaluación. Los datos de entrenamiento se utilizan para entrenar el modelo. Los datos de evaluación se utilizan para evitar el sobreajuste a través de una parada anticipada. El valor predeterminado es auto_split.\n",
    "\n",
    "- **input_label_cols:** los nombres de las columnas de etiquetas en los datos de entrenamiento. input_label_cols acepta una matriz de cadenas, pero solo se admite un elemento de matriz para los modelos linear_reg y logistic_reg. Si no se especifica input_label_cols, se utiliza la columna denominada \"etiqueta\" en los datos de entrenamiento. Si ninguno existe, la consulta falla.\n",
    "\n",
    "- **max_iterations:** el número máximo de iteraciones de entrenamiento (pasos). El valor predeterminado es 20.\n",
    "\n",
    "Cuando utiliza una declaración CREATE MODEL, el tamaño del modelo debe ser de 90 MB o menos o la consulta falla. Por lo general, si todas las variables categóricas son cadenas cortas, se admite una cardinalidad total de características (dimensión del modelo) de 5 a 10 millones. La dimensionalidad depende de la cardinalidad y la longitud de las variables de cadena.\n",
    "\n",
    "Cuando utiliza una declaración CREATE MODEL, la columna de la etiqueta no puede contener valores NULL. Si la columna de la etiqueta contiene valores NULL, la consulta falla."
   ]
  },
  {
   "cell_type": "markdown",
   "id": "9e122ee6-2f0f-4ea1-b554-8d9b5bf465c9",
   "metadata": {},
   "source": [
    "### Estandarice los datos para la convergencia de modelos\n",
    "\n",
    "1. Para todas las columnas numéricas, BigQuery ML estandariza y centra la columna en cero antes de pasarla al entrenamiento.\n",
    "\n",
    "2. En la consulta SQL omitimos las siguientes columnas para datos de entrenamiento:\n",
    "\n",
    "['functional_weight', 'education', 'sex', 'relationship']\n",
    "\n",
    "3. BQML convertirá las características categóricas a numéricas.\n",
    "\n",
    "4. Los valores desconocidos en **workclass** y **native_country** se reemplazan con Private y United States respectivamente.\n",
    "\n",
    "Se eliminan las instancias con valores desconocidos para la **occupation*.\n",
    "\n",
    "5. Elimina la **relationship** y usa **marital_status** de manera simplificada. (Puede usar Chi Square, que se usa comúnmente para probar relaciones entre variables categóricas (martial_status vs. relationship).\n",
    "\n",
    "6. Se eliminan los duplicados en el conjunto de trenes.\n",
    "\n",
    "El resultado de la creación del modelo será un marco de datos vacío, esto es normal."
   ]
  },
  {
   "cell_type": "code",
   "execution_count": null,
   "id": "33e9f5fe-af67-426c-8e84-ef5298dc7d52",
   "metadata": {},
   "outputs": [],
   "source": [
    "# Entrenar un BQML model\n",
    "train_query = \"\"\"\n",
    "CREATE OR REPLACE MODEL `census_example.census_model`\n",
    "  OPTIONS (\n",
    "      model_type='logistic_reg',\n",
    "      auto_class_weights=true,\n",
    "      data_split_method='no_split',\n",
    "      input_label_cols=['income_bracket'],\n",
    "      max_iterations=15) AS\n",
    "  SELECT\n",
    "      age,\n",
    "      CASE \n",
    "        WHEN workclass IS NULL THEN 'Private' \n",
    "        WHEN LTRIM(workclass) LIKE '?' THEN 'Private'\n",
    "        ELSE workclass\n",
    "      END AS workclass,\n",
    "      CASE \n",
    "        WHEN native_country IS NULL THEN 'United States' \n",
    "        WHEN LTRIM(native_country) LIKE '?' THEN 'United States'\n",
    "        ELSE native_country\n",
    "      END AS native_country,        \n",
    "      CASE \n",
    "        WHEN LTRIM(marital_status) IN \n",
    "          (\n",
    "           'Never-married',\n",
    "           'Divorced',\n",
    "           'Separated',\n",
    "           'Widowed'\n",
    "          ) THEN 'Single' \n",
    "        WHEN LTRIM(marital_status) IN \n",
    "          (\n",
    "           'Married-civ-spouse',\n",
    "           'Married-spouse-absent',\n",
    "           'Married-AF-spouse'\n",
    "          ) THEN 'Married' \n",
    "        ELSE NULL \n",
    "      END AS marital_status,\n",
    "      education_num,\n",
    "      occupation,\n",
    "      race,       \n",
    "      hours_per_week,        \n",
    "      income_bracket\n",
    "    FROM   \n",
    "      `bigquery-public-data.ml_datasets.census_adult_income`\n",
    "    WHERE\n",
    "      MOD(ABS(FARM_FINGERPRINT(CAST(functional_weight AS STRING))), 10) < 8\n",
    "      AND (occupation IS NOT NULL OR LTRIM(occupation) NOT LIKE '?%')\n",
    "    GROUP BY  1, 2, 3, 4, 5, 6, 7, 8, 9\n",
    "\"\"\"\n",
    "client.query(train_query)"
   ]
  },
  {
   "cell_type": "markdown",
   "id": "1c9b153f-07cb-4cf0-bdc2-6aa1d1b2ab58",
   "metadata": {},
   "source": [
    "### Información del modelo\n",
    "Un algoritmo de ML construye un modelo examinando muchos ejemplos e intentando encontrar un modelo que minimice la pérdida. Este proceso se denomina minimización empírica del riesgo.\n",
    "\n",
    "La pérdida es la penalización por una mala predicción, un número que indica qué tan mala fue la predicción del modelo en un solo ejemplo. Si la predicción del modelo es perfecta, la pérdida es cero; de lo contrario, la pérdida es mayor. El objetivo de entrenar un modelo es encontrar un conjunto de ponderaciones y sesgos que tengan una pérdida baja, en promedio, en todos los ejemplos."
   ]
  },
  {
   "cell_type": "code",
   "execution_count": null,
   "id": "49c07ef1-47f4-4f52-88e3-fb8b9bf6d28a",
   "metadata": {},
   "outputs": [],
   "source": [
    "training_info = \"\"\"\n",
    "SELECT\n",
    "  training_run,\n",
    "  iteration,\n",
    "  loss,\n",
    "  duration_ms,\n",
    "  learning_rate\n",
    "FROM\n",
    "  ML.TRAINING_INFO(MODEL `census_example.census_model`)\n",
    "ORDER BY iteration ASC\n",
    "\"\"\"\n",
    "client.query(training_info).to_dataframe()"
   ]
  },
  {
   "cell_type": "markdown",
   "id": "a0c60882-a4c2-410a-9e27-c0a169c658d1",
   "metadata": {},
   "source": [
    "### Evaluación del modelo"
   ]
  },
  {
   "cell_type": "code",
   "execution_count": null,
   "id": "2a049ed6-09a8-48dd-96c5-83ef3164419a",
   "metadata": {},
   "outputs": [],
   "source": [
    "# Realizar la evaluación del modelo\n",
    "query_evaluate = \"\"\"\n",
    "SELECT \n",
    "  precision,\n",
    "  recall,\n",
    "  accuracy,\n",
    "  f1_score,\n",
    "  log_loss,\n",
    "  roc_auc\n",
    "FROM ML.EVALUATE (MODEL `census_example.census_model`, \n",
    "  (\n",
    "    SELECT\n",
    "      age,\n",
    "      CASE \n",
    "        WHEN workclass IS NULL THEN 'Private' \n",
    "        WHEN LTRIM(workclass) LIKE '?' THEN 'Private'\n",
    "        ELSE workclass\n",
    "      END AS workclass,\n",
    "      CASE \n",
    "        WHEN native_country IS NULL THEN 'United States' \n",
    "        WHEN LTRIM(native_country) LIKE '?' THEN 'United States'\n",
    "        ELSE native_country\n",
    "      END AS native_country,        \n",
    "      CASE \n",
    "        WHEN LTRIM(marital_status) IN \n",
    "          (\n",
    "            'Never-married',\n",
    "            'Divorced',\n",
    "            'Separated',\n",
    "            'Widowed'\n",
    "            ) THEN 'Single' \n",
    "        WHEN LTRIM(marital_status) IN \n",
    "          (\n",
    "            'Married-civ-spouse',\n",
    "            'Married-spouse-absent',\n",
    "            'Married-AF-spouse'\n",
    "            ) THEN 'Married' \n",
    "        ELSE NULL \n",
    "      END AS marital_status,\n",
    "      education_num,\n",
    "      occupation,\n",
    "      race,       \n",
    "      hours_per_week,        \n",
    "      income_bracket\n",
    "    FROM   \n",
    "      `bigquery-public-data.ml_datasets.census_adult_income`\n",
    "    WHERE\n",
    "      MOD(ABS(FARM_FINGERPRINT(CAST(functional_weight AS STRING))), 10) = 8\n",
    "      AND (occupation IS NOT NULL OR LTRIM(occupation) NOT LIKE '?%')\n",
    "    GROUP BY 1, 2, 3, 4, 5, 6, 7, 8, 9\n",
    "    ))\n",
    "\"\"\"\n",
    "evaluation_job = client.query(query_evaluate).to_dataframe()"
   ]
  },
  {
   "cell_type": "markdown",
   "id": "b206aabc-e07c-4d87-beba-81d6e5a72dd8",
   "metadata": {},
   "source": [
    "### Resultados del modelo\n",
    "Al examinar la precisión de la ROC (roc_auc) impresa durante la evaluación, debería ver que su modelo finalmente aprendió a predecir el nivel de ingresos de una persona con una precisión de alrededor del 86 %. Puede mejorarlo?"
   ]
  },
  {
   "cell_type": "code",
   "execution_count": null,
   "id": "1fe1b734-cda3-44d1-80b5-ee9a76734e78",
   "metadata": {},
   "outputs": [],
   "source": [
    "evaluation_job"
   ]
  },
  {
   "cell_type": "markdown",
   "id": "14f4ef4d-67e3-486f-a29f-780b55dfb480",
   "metadata": {},
   "source": [
    "### ROC\n",
    "La función de salida ML.ROC_CURVE incluye varias filas con métricas para diferentes valores de umbral para el modelo. Las métricas incluyen:\n",
    "\n",
    "- threshold\n",
    "- recall\n",
    "- false_positive_rate\n",
    "- true_positives\n",
    "- false_positives\n",
    "- true_negatives\n",
    "- false_negatives"
   ]
  },
  {
   "cell_type": "code",
   "execution_count": null,
   "id": "69c7396d-78f3-44b7-94a9-d3141a72f496",
   "metadata": {},
   "outputs": [],
   "source": [
    "# Evaluación del Modelo\n",
    "query_roc_curve = \"\"\"\n",
    "SELECT\n",
    "  threshold,\n",
    "  recall,\n",
    "  false_positive_rate,\n",
    "  true_positives,\n",
    "  false_positives,\n",
    "  true_negatives,\n",
    "  false_negatives\n",
    "FROM\n",
    "  ML.ROC_CURVE(MODEL `census_example.census_model`,\n",
    "  (\n",
    "    SELECT\n",
    "      age,\n",
    "      CASE \n",
    "        WHEN workclass IS NULL THEN 'Private' \n",
    "        WHEN LTRIM(workclass) LIKE '?' THEN 'Private'\n",
    "        ELSE workclass\n",
    "      END AS workclass,\n",
    "      CASE \n",
    "        WHEN native_country IS NULL THEN 'United States' \n",
    "        WHEN LTRIM(native_country) LIKE '?' THEN 'United States'\n",
    "        ELSE native_country\n",
    "      END AS native_country,        \n",
    "      CASE \n",
    "        WHEN LTRIM(marital_status) IN \n",
    "          (\n",
    "            'Never-married',\n",
    "            'Divorced',\n",
    "            'Separated',\n",
    "            'Widowed'\n",
    "            ) THEN 'Single' \n",
    "        WHEN LTRIM(marital_status) IN \n",
    "          (\n",
    "            'Married-civ-spouse',\n",
    "            'Married-spouse-absent',\n",
    "            'Married-AF-spouse'\n",
    "            ) THEN 'Married' \n",
    "        ELSE NULL \n",
    "      END AS marital_status,\n",
    "      education_num,\n",
    "      occupation,\n",
    "      race,       \n",
    "      hours_per_week,        \n",
    "      income_bracket\n",
    "    FROM   \n",
    "       `bigquery-public-data.ml_datasets.census_adult_income`\n",
    "    WHERE\n",
    "      MOD(ABS(FARM_FINGERPRINT(CAST(functional_weight AS STRING))), 10) = 8\n",
    "      AND (occupation IS NOT NULL OR LTRIM(occupation) NOT LIKE '?%')\n",
    "    GROUP BY  1, 2, 3, 4, 5, 6, 7, 8, 9))\n",
    "\"\"\"\n",
    "roc_curve_job = client.query(query_roc_curve).to_dataframe()\n",
    "roc_curve_job"
   ]
  },
  {
   "cell_type": "markdown",
   "id": "b1214d38-4691-442b-a608-824fa3dd541d",
   "metadata": {},
   "source": [
    "### Visualizar el historial del modelo"
   ]
  },
  {
   "cell_type": "code",
   "execution_count": null,
   "id": "a83dc277-d197-4a5b-ba29-6c59c6299091",
   "metadata": {},
   "outputs": [],
   "source": [
    "# Visualice la historia para la precisión.\n",
    "plt.title('BigQuery ML Model accuracy')\n",
    "plt.xlim([0.0, 1.0])\n",
    "plt.ylim([0.0, 1.02])\n",
    "plt.xlabel('False Positive Rate')\n",
    "plt.ylabel('True Positive Rate')\n",
    "fpr = roc_curve_job['false_positive_rate']\n",
    "tpr = roc_curve_job['recall']\n",
    "plt.plot(fpr, tpr, color='darkorange')\n",
    "plt.plot([0, 1], [0, 1], color='navy', linestyle='--')\n",
    "plt.show()"
   ]
  },
  {
   "cell_type": "markdown",
   "id": "06d3a1a4-9f74-4556-b6f7-baf46d80d00e",
   "metadata": {},
   "source": [
    "## Modelo de predicciones\n",
    "### Generar predicciones\n",
    "Ahora usará su modelo para predecir resultados. La siguiente consulta usa ML.PREDICT. La consulta devuelve estas columnas:\n",
    "- income_bracket\n",
    "- predicted_income_bracket\n",
    "- predicted_income_bracket_probs\n",
    "- All other columns specified in query.\n",
    "\n",
    "**Nota:** normalmente para la predicción, su etiqueta estará vacía, en este ejemplo la usamos para poder comparar el resultado del modelo con la etiqueta esperada."
   ]
  },
  {
   "cell_type": "code",
   "execution_count": null,
   "id": "ddf1b06e-c53c-4d5b-952b-383254fa62c2",
   "metadata": {},
   "outputs": [],
   "source": [
    "query_prediction = \"\"\"\n",
    "SELECT\n",
    "  income_bracket,\n",
    "  predicted_income_bracket,\n",
    "  predicted_income_bracket_probs\n",
    "FROM\n",
    "  ML.PREDICT(MODEL `census_example.census_model`,\n",
    "  (\n",
    "    SELECT\n",
    "      age,\n",
    "      CASE \n",
    "        WHEN workclass IS NULL THEN 'Private' \n",
    "        WHEN LTRIM(workclass) LIKE '?' THEN 'Private'\n",
    "        ELSE workclass\n",
    "      END AS workclass,\n",
    "      CASE \n",
    "        WHEN native_country IS NULL THEN 'United States' \n",
    "        WHEN LTRIM(native_country) LIKE '?' THEN 'United States'\n",
    "        ELSE native_country\n",
    "      END AS native_country,        \n",
    "      CASE \n",
    "        WHEN LTRIM(marital_status) IN \n",
    "        (\n",
    "            'Never-married',\n",
    "            'Divorced',\n",
    "            'Separated',\n",
    "            'Widowed'\n",
    "            ) THEN 'Single' \n",
    "        WHEN LTRIM(marital_status) IN \n",
    "          (\n",
    "            'Married-civ-spouse',\n",
    "            'Married-spouse-absent',\n",
    "            'Married-AF-spouse'\n",
    "            ) THEN 'Married' \n",
    "        ELSE NULL \n",
    "      END AS marital_status,\n",
    "      education_num,\n",
    "      occupation,\n",
    "      race,       \n",
    "      hours_per_week,        \n",
    "      income_bracket\n",
    "    FROM   \n",
    "       `bigquery-public-data.ml_datasets.census_adult_income`\n",
    "    WHERE\n",
    "      MOD(ABS(FARM_FINGERPRINT(CAST(functional_weight AS STRING))), 10) = 9\n",
    "      AND occupation IS NOT NULL AND LTRIM(occupation) NOT LIKE '?%'\n",
    "      GROUP BY  1, 2, 3, 4, 5, 6, 7, 8, 9\n",
    "    ))\n",
    "\"\"\"\n",
    "predictions = client.query(query_prediction).to_dataframe()"
   ]
  },
  {
   "cell_type": "markdown",
   "id": "dfa32819-012e-48ec-ae03-e43432c2058a",
   "metadata": {},
   "source": [
    "Veremos unas cuantas predicciones y el resultado esperado:"
   ]
  },
  {
   "cell_type": "code",
   "execution_count": null,
   "id": "849dad7f-e779-44d0-be90-c6d1c6459eb0",
   "metadata": {},
   "outputs": [],
   "source": [
    "predictions[['income_bracket', 'predicted_income_bracket']].head()"
   ]
  },
  {
   "cell_type": "code",
   "execution_count": null,
   "id": "749edaf4-7929-4e3f-81c3-84a92ec7c275",
   "metadata": {},
   "outputs": [],
   "source": [
    "predictions['predicted_income_bracket_probs'].head()"
   ]
  },
  {
   "cell_type": "markdown",
   "id": "aa6dacff-6b69-455f-96f8-048dfe376f54",
   "metadata": {},
   "source": [
    "En este caso la primera probabilidad de predicción es ~ 0.20, que corresponde a <50K."
   ]
  },
  {
   "cell_type": "markdown",
   "id": "920f9bf5-d66f-480e-bb0f-3035bb33519d",
   "metadata": {},
   "source": [
    "#### Cuente el número de predicciones correctas:"
   ]
  },
  {
   "cell_type": "code",
   "execution_count": null,
   "id": "fa507539-f3ce-4344-9bf8-bea7490eec3b",
   "metadata": {},
   "outputs": [],
   "source": [
    "_count = predictions['income_bracket'].str.strip().str.lower() == \\\n",
    "  predictions['predicted_income_bracket'].str.strip().str.lower()\n",
    "# Predicciones grupales:\n",
    "_count.value_counts(normalize=True) \n",
    "# Nota: Establezca normalize=False para ver resultados agrupados."
   ]
  },
  {
   "cell_type": "code",
   "execution_count": null,
   "id": "8b92df01-bf96-4dcc-888e-70d47be826ec",
   "metadata": {},
   "outputs": [],
   "source": []
  }
 ],
 "metadata": {
  "kernelspec": {
   "display_name": "Python (Local)",
   "language": "python",
   "name": "local-base"
  },
  "language_info": {
   "codemirror_mode": {
    "name": "ipython",
    "version": 3
   },
   "file_extension": ".py",
   "mimetype": "text/x-python",
   "name": "python",
   "nbconvert_exporter": "python",
   "pygments_lexer": "ipython3",
   "version": "3.7.12"
  }
 },
 "nbformat": 4,
 "nbformat_minor": 5
}
